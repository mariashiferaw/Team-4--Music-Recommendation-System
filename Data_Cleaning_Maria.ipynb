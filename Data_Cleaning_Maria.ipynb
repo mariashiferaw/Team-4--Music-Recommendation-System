{
 "cells": [
  {
   "cell_type": "code",
   "execution_count": 3,
   "metadata": {},
   "outputs": [],
   "source": [
    "import numpy as numpy\n",
    "import pandas as pd"
   ]
  },
  {
   "cell_type": "code",
   "execution_count": 7,
   "metadata": {},
   "outputs": [
    {
     "name": "stdout",
     "output_type": "stream",
     "text": [
      "   Unnamed: 0                track_id  \\\n",
      "0           0  6f807x0ima9a1j3VPbc7VN   \n",
      "1           1  0r7CVbZTWZgbTCYdfa2P31   \n",
      "2           2  1z1Hg7Vb0AhHDiEmnDE79l   \n",
      "3           3  75FpbthrwQmzHlBJLuGdC7   \n",
      "4           4  1e8PAfcKUYoKkxPhrHqw4x   \n",
      "\n",
      "                                          track_name      track_artist  \\\n",
      "0  I Don't Care (with Justin Bieber) - Loud Luxur...        Ed Sheeran   \n",
      "1                    Memories - Dillon Francis Remix          Maroon 5   \n",
      "2                    All the Time - Don Diablo Remix      Zara Larsson   \n",
      "3                  Call You Mine - Keanu Silva Remix  The Chainsmokers   \n",
      "4            Someone You Loved - Future Humans Remix     Lewis Capaldi   \n",
      "\n",
      "   track_popularity          track_album_id  \\\n",
      "0                66  2oCs0DGTsRO98Gh5ZSl2Cx   \n",
      "1                67  63rPSO264uRjW1X5E6cWv6   \n",
      "2                70  1HoSmj2eLcsrR0vE9gThr4   \n",
      "3                60  1nqYsOef1yKKuGOVchbsk6   \n",
      "4                69  7m7vv9wlQ4i0LFuJiE2zsQ   \n",
      "\n",
      "                                    track_album_name track_album_release_date  \\\n",
      "0  I Don't Care (with Justin Bieber) [Loud Luxury...                6/14/2019   \n",
      "1                    Memories (Dillon Francis Remix)               12/13/2019   \n",
      "2                    All the Time (Don Diablo Remix)                 7/5/2019   \n",
      "3                        Call You Mine - The Remixes                7/19/2019   \n",
      "4            Someone You Loved (Future Humans Remix)                 3/5/2019   \n",
      "\n",
      "  playlist_name             playlist_id  ... key loudness  mode  speechiness  \\\n",
      "0     Pop Remix  37i9dQZF1DXcZDD7cfEKhW  ...   6   -2.634     1       0.0583   \n",
      "1     Pop Remix  37i9dQZF1DXcZDD7cfEKhW  ...  11   -4.969     1       0.0373   \n",
      "2     Pop Remix  37i9dQZF1DXcZDD7cfEKhW  ...   1   -3.432     0       0.0742   \n",
      "3     Pop Remix  37i9dQZF1DXcZDD7cfEKhW  ...   7   -3.778     1       0.1020   \n",
      "4     Pop Remix  37i9dQZF1DXcZDD7cfEKhW  ...   1   -4.672     1       0.0359   \n",
      "\n",
      "   acousticness  instrumentalness  liveness  valence    tempo  duration_ms  \n",
      "0        0.1020          0.000000    0.0653    0.518  122.036       194754  \n",
      "1        0.0724          0.004210    0.3570    0.693   99.972       162600  \n",
      "2        0.0794          0.000023    0.1100    0.613  124.008       176616  \n",
      "3        0.0287          0.000009    0.2040    0.277  121.956       169093  \n",
      "4        0.0803          0.000000    0.0833    0.725  123.976       189052  \n",
      "\n",
      "[5 rows x 24 columns]\n"
     ]
    }
   ],
   "source": [
    "#load data and see the first few items\n",
    "song_data = pd.read_csv(\"spotify_song.csv\")\n",
    "print(song_data.head())"
   ]
  },
  {
   "cell_type": "code",
   "execution_count": 8,
   "metadata": {},
   "outputs": [
    {
     "data": {
      "text/plain": [
       "(32833, 24)"
      ]
     },
     "execution_count": 8,
     "metadata": {},
     "output_type": "execute_result"
    }
   ],
   "source": [
    "#Show the shape of the data to know how many rows and columns exists\n",
    "song_data.shape"
   ]
  },
  {
   "cell_type": "code",
   "execution_count": 9,
   "metadata": {},
   "outputs": [
    {
     "data": {
      "text/plain": [
       "Unnamed: 0                  0\n",
       "track_id                    0\n",
       "track_name                  5\n",
       "track_artist                5\n",
       "track_popularity            0\n",
       "track_album_id              0\n",
       "track_album_name            5\n",
       "track_album_release_date    0\n",
       "playlist_name               0\n",
       "playlist_id                 0\n",
       "playlist_genre              0\n",
       "playlist_subgenre           0\n",
       "danceability                0\n",
       "energy                      0\n",
       "key                         0\n",
       "loudness                    0\n",
       "mode                        0\n",
       "speechiness                 0\n",
       "acousticness                0\n",
       "instrumentalness            0\n",
       "liveness                    0\n",
       "valence                     0\n",
       "tempo                       0\n",
       "duration_ms                 0\n",
       "dtype: int64"
      ]
     },
     "execution_count": 9,
     "metadata": {},
     "output_type": "execute_result"
    }
   ],
   "source": [
    "#Check for missing values\n",
    "song_data.isnull().sum()"
   ]
  },
  {
   "cell_type": "code",
   "execution_count": 10,
   "metadata": {},
   "outputs": [
    {
     "data": {
      "text/plain": [
       "Unnamed: 0                  0\n",
       "track_id                    0\n",
       "track_name                  0\n",
       "track_artist                0\n",
       "track_popularity            0\n",
       "track_album_id              0\n",
       "track_album_name            0\n",
       "track_album_release_date    0\n",
       "playlist_name               0\n",
       "playlist_id                 0\n",
       "playlist_genre              0\n",
       "playlist_subgenre           0\n",
       "danceability                0\n",
       "energy                      0\n",
       "key                         0\n",
       "loudness                    0\n",
       "mode                        0\n",
       "speechiness                 0\n",
       "acousticness                0\n",
       "instrumentalness            0\n",
       "liveness                    0\n",
       "valence                     0\n",
       "tempo                       0\n",
       "duration_ms                 0\n",
       "dtype: int64"
      ]
     },
     "execution_count": 10,
     "metadata": {},
     "output_type": "execute_result"
    }
   ],
   "source": [
    "#Drop the missing values\n",
    "clean_song_data = song_data.dropna()\n",
    "\n",
    "#check for missing values again\n",
    "clean_song_data.isnull().sum()"
   ]
  },
  {
   "cell_type": "code",
   "execution_count": 12,
   "metadata": {},
   "outputs": [
    {
     "name": "stderr",
     "output_type": "stream",
     "text": [
      "C:\\Users\\maria\\AppData\\Local\\Temp\\ipykernel_7048\\1269268935.py:5: SettingWithCopyWarning: \n",
      "A value is trying to be set on a copy of a slice from a DataFrame\n",
      "\n",
      "See the caveats in the documentation: https://pandas.pydata.org/pandas-docs/stable/user_guide/indexing.html#returning-a-view-versus-a-copy\n",
      "  clean_song_data.drop_duplicates(inplace=True)\n"
     ]
    }
   ],
   "source": [
    "#Check for any duplicated items\n",
    "clean_song_data.duplicated()\n",
    "\n",
    "#drop any duplicates\n",
    "clean_song_data.drop_duplicates(inplace=True)"
   ]
  },
  {
   "cell_type": "code",
   "execution_count": 14,
   "metadata": {},
   "outputs": [
    {
     "name": "stdout",
     "output_type": "stream",
     "text": [
      "Index(['Unnamed: 0', 'track_id', 'track_name', 'track_artist',\n",
      "       'track_popularity', 'track_album_id', 'track_album_name',\n",
      "       'track_album_release_date', 'playlist_name', 'playlist_id',\n",
      "       'playlist_genre', 'playlist_subgenre', 'danceability', 'energy', 'key',\n",
      "       'loudness', 'mode', 'speechiness', 'acousticness', 'instrumentalness',\n",
      "       'liveness', 'valence', 'tempo', 'duration_ms'],\n",
      "      dtype='object')\n"
     ]
    }
   ],
   "source": [
    "#print the names of the columns\n",
    "print(clean_song_data.columns)"
   ]
  },
  {
   "cell_type": "code",
   "execution_count": 15,
   "metadata": {},
   "outputs": [],
   "source": [
    "#drop any columns that we dim irrelevant for the recommendation system\n",
    "cleaned_song_data = clean_song_data.drop(['Unnamed: 0', 'track_album_id', \n",
    "                                          'track_album_release_date', 'key', 'mode'], axis=1)"
   ]
  },
  {
   "cell_type": "code",
   "execution_count": 16,
   "metadata": {},
   "outputs": [
    {
     "name": "stdout",
     "output_type": "stream",
     "text": [
      "Index(['track_id', 'track_name', 'track_artist', 'track_popularity',\n",
      "       'track_album_name', 'playlist_name', 'playlist_id', 'playlist_genre',\n",
      "       'playlist_subgenre', 'danceability', 'energy', 'loudness',\n",
      "       'speechiness', 'acousticness', 'instrumentalness', 'liveness',\n",
      "       'valence', 'tempo', 'duration_ms'],\n",
      "      dtype='object')\n"
     ]
    },
    {
     "data": {
      "text/plain": [
       "(32828, 19)"
      ]
     },
     "execution_count": 16,
     "metadata": {},
     "output_type": "execute_result"
    }
   ],
   "source": [
    "#print the new shape of the cleaned data and the columns \n",
    "print(cleaned_song_data.columns)\n",
    "cleaned_song_data.shape"
   ]
  }
 ],
 "metadata": {
  "kernelspec": {
   "display_name": "Python 3",
   "language": "python",
   "name": "python3"
  },
  "language_info": {
   "codemirror_mode": {
    "name": "ipython",
    "version": 3
   },
   "file_extension": ".py",
   "mimetype": "text/x-python",
   "name": "python",
   "nbconvert_exporter": "python",
   "pygments_lexer": "ipython3",
   "version": "3.11.4"
  }
 },
 "nbformat": 4,
 "nbformat_minor": 2
}
